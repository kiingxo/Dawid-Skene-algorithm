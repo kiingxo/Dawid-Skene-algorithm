{
 "cells": [
  {
   "cell_type": "code",
   "execution_count": 6,
   "id": "d3d7b406-08ce-45ec-b824-c4a4a58c3894",
   "metadata": {},
   "outputs": [
    {
     "name": "stderr",
     "output_type": "stream",
     "text": [
      "/var/folders/ct/lxrxryvx42d38639y6h485040000gn/T/ipykernel_11935/728128579.py:37: FutureWarning: Calling int on a single element Series is deprecated and will raise a TypeError in the future. Use int(ser.iloc[0]) instead\n",
      "  obs = int(df[(df[\"task_id\"] == task_id) & (df[\"annotator_id\"] == ann_id)][\"label\"])\n"
     ]
    },
    {
     "name": "stdout",
     "output_type": "stream",
     "text": [
      "First 10 predictions: [1 1 0 0 1 1 1 1 1 0]\n",
      "First 10 true labels: [1 1 0 0 1 1 1 1 1 0]\n",
      "Dawid-Skene accuracy: 0.93\n"
     ]
    }
   ],
   "source": [
    "import numpy as np\n",
    "import pandas as pd\n",
    "\n",
    "np.random.seed(1)\n",
    "num_tasks = 100\n",
    "true_labels = np.random.randint(0, 2, size=num_tasks)\n",
    "annotator_accuracies = [0.9, 0.85, 0.8, 0.75, 0.7, 0.6, 0.5, 0.4]\n",
    "valid_annotators=[]\n",
    "annotations = []\n",
    "\n",
    "for task_id in range(num_tasks):\n",
    "    for ann_id, acc in enumerate(annotator_accuracies):\n",
    "        true = true_labels[task_id]\n",
    "        label = true if np.random.rand() < acc else 1 - true\n",
    "        annotations.append((task_id, ann_id, label))\n",
    "df = pd.DataFrame(annotations, columns=[\"task_id\", \"annotator_id\", \"label\"])\n",
    "\n",
    "#ill use majority vote first\n",
    "label_probs = np.zeros((num_tasks, 2))\n",
    "for task_id in range(num_tasks):\n",
    "    votes = df[df[\"task_id\"] == task_id][\"label\"]\n",
    "    count_0 = (votes == 0).sum()\n",
    "    count_1 = (votes == 1).sum()\n",
    "    total = count_0 + count_1\n",
    "    label_probs[task_id] = [count_0 / total, count_1 / total]\n",
    "\n",
    "max_iter = 10\n",
    "confusion_matrices = {\n",
    "    ann_id: np.ones((2, 2)) \n",
    "    for ann_id in range(len(annotator_accuracies))\n",
    "}\n",
    "\n",
    "for _ in range(max_iter):\n",
    "\n",
    "    for ann_id, cm in confusion_matrices.items():\n",
    "        new_cm = np.ones((2, 2))\n",
    "        for task_id in range(num_tasks):\n",
    "            obs = int(df[(df[\"task_id\"] == task_id) & (df[\"annotator_id\"] == ann_id)][\"label\"].iloc[0])\n",
    "            for true_val in [0, 1]:\n",
    "                new_cm[true_val, obs] += label_probs[task_id, true_val]\n",
    "        confusion_matrices[ann_id] = new_cm / new_cm.sum(axis=1, keepdims=True)\n",
    "\n",
    "    for task_id in range(num_tasks):\n",
    "        probs = np.ones(2)\n",
    "        task_annots = df[df[\"task_id\"] == task_id]\n",
    "        for true_val in [0, 1]:\n",
    "            for _, row in task_annots.iterrows():\n",
    "                ann = row[\"annotator_id\"]\n