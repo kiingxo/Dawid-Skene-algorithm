--- a/Dawid-Skene-algorithm.ipynb
+++ b/Dawid-Skene-algorithm.ipynb
@@ -35,7 +35,7 @@
     "    for ann_id, cm in confusion_matrices.items():\n",
     "        new_cm = np.ones((2, 2))\n",
     "        for task_id in range(num_tasks):\n",
-    "            obs = int(df[(df[\"task_id\"] == task_id) & (df[\"annotator_id\"] == ann_id)][\"label\"])\n",
+    "            obs = int(df[(df[\"task_id\"] == task_id) & (df[\"annotator_id\"] == ann_id)][\"label\"].iloc[0])\n",
     "            for true_val in [0, 1]:\n",
     "                new_cm[true_val, obs] += label_probs[task_id, true_val]\n",
     "        confusion_matrices[ann_id] = new_cm / new_cm.sum(axis=1, keepdims=True)\n",
@@ -46,7 +46,7 @@
     "        for true_val in [0, 1]:\n",
     "            for _, row in task_annots.iterrows():\n",
     "                ann = row[\"annotator_id\"]\n",
-    "                obs = int(row[\"label\"])\n",
+    "                obs = int(row[\"label\"].iloc[0])\n",
     "                probs[true_val] *= confusion_matrices[ann][true_val, obs]\n",
     "        label_probs[task_id] = probs / probs.sum()\n",
     "ds_preds = np.argmax(label_probs, axis=1)\n"


The code was modified to address the FutureWarning by using `.iloc[0]` to access the single element of the Series returned by the DataFrame indexing.  This avoids the deprecated `int()` call on a Series.